{
 "cells": [
  {
   "cell_type": "markdown",
   "id": "ca084276",
   "metadata": {},
   "source": [
    "**A Python Program to print the following pattern\n",
    "Twinkle, twinkle, little star,\n",
    "\tHow I wonder what you are! \n",
    "\t\tUp above the world so high,   \t\t\n",
    "\t\tLike a diamond in the sky. \n",
    "Twinkle, twinkle, little star, \n",
    "\tHow I wonder what you are!**"
   ]
  },
  {
   "cell_type": "code",
   "execution_count": 15,
   "id": "e3bca39f",
   "metadata": {},
   "outputs": [
    {
     "name": "stdout",
     "output_type": "stream",
     "text": [
      "Twinkle, twinkle, little star, \n",
      "\tHow I wonder what you are!\n",
      "\t\tUp above the world so high, \n",
      "\t\tLike a diamond in the sky. \n",
      "Twinkle, twinkle, little star, \n",
      "\tHow I wonder what you are!\n"
     ]
    }
   ],
   "source": [
    "print(\"Twinkle, twinkle, little star, \\n\\tHow I wonder what you are!\\n\\t\\tUp above the world so high, \\n\\t\\tLike a diamond in the sky. \\nTwinkle, twinkle, little star, \\n\\tHow I wonder what you are!\")\n",
    "\n"
   ]
  },
  {
   "cell_type": "markdown",
   "id": "9e4d72ef",
   "metadata": {},
   "source": [
    "**Get the version of Python you are using**"
   ]
  },
  {
   "cell_type": "code",
   "execution_count": 12,
   "id": "7d182b89",
   "metadata": {},
   "outputs": [
    {
     "name": "stdout",
     "output_type": "stream",
     "text": [
      "Python version used in this machine\n",
      "3.7.0 (v3.7.0:1bf9cc5093, Jun 27 2018, 04:59:51) [MSC v.1914 64 bit (AMD64)]\n"
     ]
    }
   ],
   "source": [
    "import sys\n",
    "print(\"Python version used in this machine\")\n",
    "print (sys.version)\n"
   ]
  },
  {
   "cell_type": "markdown",
   "id": "1559bc1d",
   "metadata": {},
   "source": [
    "**See Current Date and Time**"
   ]
  },
  {
   "cell_type": "code",
   "execution_count": 5,
   "id": "b63616c9",
   "metadata": {},
   "outputs": [
    {
     "name": "stdout",
     "output_type": "stream",
     "text": [
      "Current date and time : \n",
      "2021-12-30 10:02:38\n"
     ]
    }
   ],
   "source": [
    "import datetime\n",
    "now = datetime.datetime.now()\n",
    "print (\"Current date and time : \")\n",
    "print (now.strftime(\"%Y-%m-%d %H:%M:%S\"))"
   ]
  },
  {
   "cell_type": "markdown",
   "id": "d7d46282",
   "metadata": {},
   "source": [
    "**Take the radius as input, and prints the area**"
   ]
  },
  {
   "cell_type": "code",
   "execution_count": 8,
   "id": "22f2143f",
   "metadata": {},
   "outputs": [
    {
     "name": "stdout",
     "output_type": "stream",
     "text": [
      "Enter radius2\n",
      "the area is:  12.56\n"
     ]
    }
   ],
   "source": [
    "radius= int(input(\"Enter radius\"))\n",
    "area= 3.14*(radius)**2\n",
    "print(\"The area is: \", area)"
   ]
  },
  {
   "cell_type": "markdown",
   "id": "15d14769",
   "metadata": {},
   "source": [
    "**A Python Program to print the first and the last name in reverse order**"
   ]
  },
  {
   "cell_type": "code",
   "execution_count": 9,
   "id": "ac2eaf04",
   "metadata": {},
   "outputs": [
    {
     "name": "stdout",
     "output_type": "stream",
     "text": [
      "Tiwana Faiza\n"
     ]
    }
   ],
   "source": [
    "fname=\"Faiza\"\n",
    "lname=\"Tiwana\"\n",
    "print(lname + \" \"+ fname)"
   ]
  },
  {
   "cell_type": "markdown",
   "id": "1500efce",
   "metadata": {},
   "source": [
    "**Inputs two numbers and prints the sum**"
   ]
  },
  {
   "cell_type": "code",
   "execution_count": 11,
   "id": "34910999",
   "metadata": {},
   "outputs": [
    {
     "name": "stdout",
     "output_type": "stream",
     "text": [
      "Enter First Number 34\n",
      "Enter Second Number 34\n",
      "the total sum is  68\n"
     ]
    }
   ],
   "source": [
    "n1=int(input(\"Enter First Number \"))\n",
    "n2=int(input(\"Enter Second Number \"))\n",
    "print(\"The total sum is \", n1+n2)"
   ]
  },
  {
   "cell_type": "code",
   "execution_count": null,
   "id": "78c25a2b",
   "metadata": {},
   "outputs": [],
   "source": []
  }
 ],
 "metadata": {
  "kernelspec": {
   "display_name": "Python 3 (ipykernel)",
   "language": "python",
   "name": "python3"
  },
  "language_info": {
   "codemirror_mode": {
    "name": "ipython",
    "version": 3
   },
   "file_extension": ".py",
   "mimetype": "text/x-python",
   "name": "python",
   "nbconvert_exporter": "python",
   "pygments_lexer": "ipython3",
   "version": "3.7.0"
  }
 },
 "nbformat": 4,
 "nbformat_minor": 5
}
